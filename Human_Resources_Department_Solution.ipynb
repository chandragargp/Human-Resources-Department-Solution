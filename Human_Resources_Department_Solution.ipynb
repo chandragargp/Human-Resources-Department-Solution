{
  "nbformat": 4,
  "nbformat_minor": 0,
  "metadata": {
    "colab": {
      "provenance": [],
      "authorship_tag": "ABX9TyOjj0S/a+fqtcCdmWr3Xl9E",
      "include_colab_link": true
    },
    "kernelspec": {
      "name": "python3",
      "display_name": "Python 3"
    },
    "language_info": {
      "name": "python"
    }
  },
  "cells": [
    {
      "cell_type": "markdown",
      "metadata": {
        "id": "view-in-github",
        "colab_type": "text"
      },
      "source": [
        "<a href=\"https://colab.research.google.com/github/chandragargp/Human-Resources-Department-Solution/blob/main/Human_Resources_Department_Solution.ipynb\" target=\"_parent\"><img src=\"https://colab.research.google.com/assets/colab-badge.svg\" alt=\"Open In Colab\"/></a>"
      ]
    },
    {
      "cell_type": "code",
      "execution_count": 1,
      "metadata": {
        "id": "CG772Nzw-5KL"
      },
      "outputs": [],
      "source": [
        "# TASK #1: UNDERSTAND THE PROBLEM STATEMENT AND BUSINESS CASE"
      ]
    },
    {
      "cell_type": "markdown",
      "source": [
        "Hiring and retaining employees are extremely complex tasks that require capital, time and skills.\n",
        "\n",
        "“Small business owners spend 40% of their working hours on tasks that do not generate any income such as hiring”.\n",
        "\n",
        "“Companies spend 15%-20% of the employee's salary to recruit a new candidate”.\n"
      ],
      "metadata": {
        "id": "ay5_ANap_YYV"
      }
    },
    {
      "cell_type": "code",
      "source": [
        "# TASK #2: IMPORT LIBRARIES AND DATASETS\n"
      ],
      "metadata": {
        "id": "uhVP1kVp_ccO"
      },
      "execution_count": 2,
      "outputs": []
    },
    {
      "cell_type": "code",
      "source": [
        "import pandas as pd\n",
        "import numpy as np\n",
        "import seaborn as sns\n",
        "import matplotlib.pyplot as plt"
      ],
      "metadata": {
        "id": "R3CsZcuK_4MN"
      },
      "execution_count": 4,
      "outputs": []
    },
    {
      "cell_type": "code",
      "source": [
        "#  include the full link to the csv file containing your dataset\n",
        "employee_df = pd.read_csv('Human_Resources.csv')"
      ],
      "metadata": {
        "id": "uVBM6fKWAmnu"
      },
      "execution_count": null,
      "outputs": []
    }
  ]
}